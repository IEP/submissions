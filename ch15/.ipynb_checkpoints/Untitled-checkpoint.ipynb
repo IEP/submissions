{
 "cells": [
  {
   "cell_type": "code",
   "execution_count": null,
   "metadata": {
    "collapsed": false
   },
   "outputs": [],
   "source": [
    "from copy import copy\n",
    "n = int(input())\n",
    "d = [i for i in range(1, n+1)]\n",
    "#print(n, d)\n",
    "per([], d)"
   ]
  },
  {
   "cell_type": "code",
   "execution_count": null,
   "metadata": {
    "collapsed": true
   },
   "outputs": [],
   "source": [
    "def per(a, b):\n",
    "    if len(b) == 0:\n",
    "        print(''.join(map(str,a)))\n",
    "    for i in b:\n",
    "        p, q = copy(a), copy(b)\n",
    "        p.append(i)\n",
    "        q.remove(i)\n",
    "        if len(a) > 1:\n",
    "            mid = a[len(a)-1]\n",
    "            left = a[len(a)-2]\n",
    "            right = i\n",
    "            if left > mid < right:\n",
    "                #print('<',p,q)\n",
    "                per(p,q)\n",
    "            elif left < mid > right:\n",
    "                #print('>',p,q)\n",
    "                per(p,q)\n",
    "        else:\n",
    "            #print('.',p,q)\n",
    "            per(p,q)"
   ]
  }
 ],
 "metadata": {
  "kernelspec": {
   "display_name": "Python 3",
   "language": "python",
   "name": "python3"
  },
  "language_info": {
   "codemirror_mode": {
    "name": "ipython",
    "version": 3
   },
   "file_extension": ".py",
   "mimetype": "text/x-python",
   "name": "python",
   "nbconvert_exporter": "python",
   "pygments_lexer": "ipython3",
   "version": "3.5.1"
  }
 },
 "nbformat": 4,
 "nbformat_minor": 0
}
